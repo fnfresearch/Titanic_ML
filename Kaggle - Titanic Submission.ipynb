{
 "cells": [
  {
   "cell_type": "code",
   "execution_count": 1,
   "id": "bccd5d14",
   "metadata": {
    "collapsed": true,
    "tags": [
     "Introduction"
    ]
   },
   "outputs": [
    {
     "ename": "ERROR",
     "evalue": "Error in parse(text = x, srcfile = src): <text>:1:5: unexpected symbol\n1: The following\n        ^\n",
     "output_type": "error",
     "traceback": [
      "Error in parse(text = x, srcfile = src): <text>:1:5: unexpected symbol\n1: The following\n        ^\nTraceback:\n"
     ]
    }
   ],
   "source": [
    "The following notebook is a mirror of the R code used to complete my first and only submission for the Kaggle Titanic\n",
    "competition. The following approach relied on a hypothesis testing model based on theoretical variable construction\n",
    "rather than on extensive EDA. The goal was to quickly and efficiently execute a simple and computationally thifty\n",
    "model that still demonstrated a high level of predictive validity. In addition, the intention was to create a machine\n",
    "learning model that was easily interpretable and that was as simple as possible while maintaining strong performance.\n",
    "\n",
    "Recursive partitioning (rpart) was selected as the machine learning algorithm of choice given 1) a desire for a high level\n",
    "of interpretability and replicability and 2) a desire to consider the missing data without the need for imputation."
   ]
  },
  {
   "cell_type": "code",
   "execution_count": 4,
   "id": "ee9e67e1",
   "metadata": {
    "collapsed": true
   },
   "outputs": [
    {
     "name": "stderr",
     "output_type": "stream",
     "text": [
      "Parsed with column specification:\n",
      "cols(\n",
      "  PassengerId = col_double(),\n",
      "  Survived = col_double(),\n",
      "  Pclass = col_double(),\n",
      "  Name = col_character(),\n",
      "  Sex = col_character(),\n",
      "  Age = col_double(),\n",
      "  SibSp = col_double(),\n",
      "  Parch = col_double(),\n",
      "  Ticket = col_character(),\n",
      "  Fare = col_double(),\n",
      "  Cabin = col_character(),\n",
      "  Embarked = col_character()\n",
      ")\n",
      "Parsed with column specification:\n",
      "cols(\n",
      "  PassengerId = col_double(),\n",
      "  Pclass = col_double(),\n",
      "  Name = col_character(),\n",
      "  Sex = col_character(),\n",
      "  Age = col_double(),\n",
      "  SibSp = col_double(),\n",
      "  Parch = col_double(),\n",
      "  Ticket = col_character(),\n",
      "  Fare = col_double(),\n",
      "  Cabin = col_character(),\n",
      "  Embarked = col_character()\n",
      ")\n"
     ]
    }
   ],
   "source": [
    "##Start By Loading Appropriate Datasets\n",
    "library(readr)\n",
    "train <- read_csv(\"C:/Users/samwk/Desktop/FNF Research Consulting/Kaggle Comps/Titanic/train.csv\")\n",
    "test <- read_csv(\"C:/Users/samwk/Desktop/FNF Research Consulting/Kaggle Comps/Titanic/test.csv\")"
   ]
  },
  {
   "cell_type": "code",
   "execution_count": 5,
   "id": "11c641dc",
   "metadata": {},
   "outputs": [
    {
     "data": {
      "text/html": [
       "<table>\n",
       "<thead><tr><th scope=col>PassengerId</th><th scope=col>Survived</th><th scope=col>Pclass</th><th scope=col>Name</th><th scope=col>Sex</th><th scope=col>Age</th><th scope=col>SibSp</th><th scope=col>Parch</th><th scope=col>Ticket</th><th scope=col>Fare</th><th scope=col>Cabin</th><th scope=col>Embarked</th></tr></thead>\n",
       "<tbody>\n",
       "\t<tr><td>1                                                  </td><td>0                                                  </td><td>3                                                  </td><td>Braund, Mr. Owen Harris                            </td><td>male                                               </td><td>22                                                 </td><td>1                                                  </td><td>0                                                  </td><td>A/5 21171                                          </td><td> 7.2500                                            </td><td>NA                                                 </td><td>S                                                  </td></tr>\n",
       "\t<tr><td>2                                                  </td><td>1                                                  </td><td>1                                                  </td><td>Cumings, Mrs. John Bradley (Florence Briggs Thayer)</td><td>female                                             </td><td>38                                                 </td><td>1                                                  </td><td>0                                                  </td><td>PC 17599                                           </td><td>71.2833                                            </td><td>C85                                                </td><td>C                                                  </td></tr>\n",
       "\t<tr><td>3                                                  </td><td>1                                                  </td><td>3                                                  </td><td>Heikkinen, Miss. Laina                             </td><td>female                                             </td><td>26                                                 </td><td>0                                                  </td><td>0                                                  </td><td>STON/O2. 3101282                                   </td><td> 7.9250                                            </td><td>NA                                                 </td><td>S                                                  </td></tr>\n",
       "\t<tr><td>4                                                  </td><td>1                                                  </td><td>1                                                  </td><td>Futrelle, Mrs. Jacques Heath (Lily May Peel)       </td><td>female                                             </td><td>35                                                 </td><td>1                                                  </td><td>0                                                  </td><td>113803                                             </td><td>53.1000                                            </td><td>C123                                               </td><td>S                                                  </td></tr>\n",
       "\t<tr><td>5                                                  </td><td>0                                                  </td><td>3                                                  </td><td>Allen, Mr. William Henry                           </td><td>male                                               </td><td>35                                                 </td><td>0                                                  </td><td>0                                                  </td><td>373450                                             </td><td> 8.0500                                            </td><td>NA                                                 </td><td>S                                                  </td></tr>\n",
       "\t<tr><td>6                                                  </td><td>0                                                  </td><td>3                                                  </td><td>Moran, Mr. James                                   </td><td>male                                               </td><td>NA                                                 </td><td>0                                                  </td><td>0                                                  </td><td>330877                                             </td><td> 8.4583                                            </td><td>NA                                                 </td><td>Q                                                  </td></tr>\n",
       "</tbody>\n",
       "</table>\n"
      ],
      "text/latex": [
       "\\begin{tabular}{r|llllllllllll}\n",
       " PassengerId & Survived & Pclass & Name & Sex & Age & SibSp & Parch & Ticket & Fare & Cabin & Embarked\\\\\n",
       "\\hline\n",
       "\t 1                                                   & 0                                                   & 3                                                   & Braund, Mr. Owen Harris                             & male                                                & 22                                                  & 1                                                   & 0                                                   & A/5 21171                                           &  7.2500                                             & NA                                                  & S                                                  \\\\\n",
       "\t 2                                                   & 1                                                   & 1                                                   & Cumings, Mrs. John Bradley (Florence Briggs Thayer) & female                                              & 38                                                  & 1                                                   & 0                                                   & PC 17599                                            & 71.2833                                             & C85                                                 & C                                                  \\\\\n",
       "\t 3                                                   & 1                                                   & 3                                                   & Heikkinen, Miss. Laina                              & female                                              & 26                                                  & 0                                                   & 0                                                   & STON/O2. 3101282                                    &  7.9250                                             & NA                                                  & S                                                  \\\\\n",
       "\t 4                                                   & 1                                                   & 1                                                   & Futrelle, Mrs. Jacques Heath (Lily May Peel)        & female                                              & 35                                                  & 1                                                   & 0                                                   & 113803                                              & 53.1000                                             & C123                                                & S                                                  \\\\\n",
       "\t 5                                                   & 0                                                   & 3                                                   & Allen, Mr. William Henry                            & male                                                & 35                                                  & 0                                                   & 0                                                   & 373450                                              &  8.0500                                             & NA                                                  & S                                                  \\\\\n",
       "\t 6                                                   & 0                                                   & 3                                                   & Moran, Mr. James                                    & male                                                & NA                                                  & 0                                                   & 0                                                   & 330877                                              &  8.4583                                             & NA                                                  & Q                                                  \\\\\n",
       "\\end{tabular}\n"
      ],
      "text/markdown": [
       "\n",
       "| PassengerId | Survived | Pclass | Name | Sex | Age | SibSp | Parch | Ticket | Fare | Cabin | Embarked |\n",
       "|---|---|---|---|---|---|---|---|---|---|---|---|\n",
       "| 1                                                   | 0                                                   | 3                                                   | Braund, Mr. Owen Harris                             | male                                                | 22                                                  | 1                                                   | 0                                                   | A/5 21171                                           |  7.2500                                             | NA                                                  | S                                                   |\n",
       "| 2                                                   | 1                                                   | 1                                                   | Cumings, Mrs. John Bradley (Florence Briggs Thayer) | female                                              | 38                                                  | 1                                                   | 0                                                   | PC 17599                                            | 71.2833                                             | C85                                                 | C                                                   |\n",
       "| 3                                                   | 1                                                   | 3                                                   | Heikkinen, Miss. Laina                              | female                                              | 26                                                  | 0                                                   | 0                                                   | STON/O2. 3101282                                    |  7.9250                                             | NA                                                  | S                                                   |\n",
       "| 4                                                   | 1                                                   | 1                                                   | Futrelle, Mrs. Jacques Heath (Lily May Peel)        | female                                              | 35                                                  | 1                                                   | 0                                                   | 113803                                              | 53.1000                                             | C123                                                | S                                                   |\n",
       "| 5                                                   | 0                                                   | 3                                                   | Allen, Mr. William Henry                            | male                                                | 35                                                  | 0                                                   | 0                                                   | 373450                                              |  8.0500                                             | NA                                                  | S                                                   |\n",
       "| 6                                                   | 0                                                   | 3                                                   | Moran, Mr. James                                    | male                                                | NA                                                  | 0                                                   | 0                                                   | 330877                                              |  8.4583                                             | NA                                                  | Q                                                   |\n",
       "\n"
      ],
      "text/plain": [
       "  PassengerId Survived Pclass\n",
       "1 1           0        3     \n",
       "2 2           1        1     \n",
       "3 3           1        3     \n",
       "4 4           1        1     \n",
       "5 5           0        3     \n",
       "6 6           0        3     \n",
       "  Name                                                Sex    Age SibSp Parch\n",
       "1 Braund, Mr. Owen Harris                             male   22  1     0    \n",
       "2 Cumings, Mrs. John Bradley (Florence Briggs Thayer) female 38  1     0    \n",
       "3 Heikkinen, Miss. Laina                              female 26  0     0    \n",
       "4 Futrelle, Mrs. Jacques Heath (Lily May Peel)        female 35  1     0    \n",
       "5 Allen, Mr. William Henry                            male   35  0     0    \n",
       "6 Moran, Mr. James                                    male   NA  0     0    \n",
       "  Ticket           Fare    Cabin Embarked\n",
       "1 A/5 21171         7.2500 NA    S       \n",
       "2 PC 17599         71.2833 C85   C       \n",
       "3 STON/O2. 3101282  7.9250 NA    S       \n",
       "4 113803           53.1000 C123  S       \n",
       "5 373450            8.0500 NA    S       \n",
       "6 330877            8.4583 NA    Q       "
      ]
     },
     "metadata": {},
     "output_type": "display_data"
    }
   ],
   "source": [
    "##Take a quick look at the training dataset\n",
    "head(train)"
   ]
  },
  {
   "cell_type": "code",
   "execution_count": 6,
   "id": "b702bc34",
   "metadata": {
    "collapsed": true
   },
   "outputs": [
    {
     "name": "stderr",
     "output_type": "stream",
     "text": [
      "Registered S3 methods overwritten by 'ggplot2':\n",
      "  method         from \n",
      "  [.quosures     rlang\n",
      "  c.quosures     rlang\n",
      "  print.quosures rlang\n",
      "Registered S3 method overwritten by 'rvest':\n",
      "  method            from\n",
      "  read_xml.response xml2\n",
      "-- Attaching packages --------------------------------------- tidyverse 1.2.1 --\n",
      "v ggplot2 3.1.1       v purrr   0.3.2  \n",
      "v tibble  2.1.1       v dplyr   0.8.0.1\n",
      "v tidyr   0.8.3       v stringr 1.4.0  \n",
      "v ggplot2 3.1.1       v forcats 0.4.0  \n",
      "-- Conflicts ------------------------------------------ tidyverse_conflicts() --\n",
      "x dplyr::filter() masks stats::filter()\n",
      "x dplyr::lag()    masks stats::lag()\n",
      "Loading required package: lattice\n",
      "\n",
      "Attaching package: 'caret'\n",
      "\n",
      "The following object is masked from 'package:purrr':\n",
      "\n",
      "    lift\n",
      "\n"
     ]
    }
   ],
   "source": [
    "##Loading base packages\n",
    "library(tidyverse)\n",
    "library(caret)"
   ]
  },
  {
   "cell_type": "code",
   "execution_count": null,
   "id": "7d9b4c04",
   "metadata": {
    "tags": [
     "Age",
     "Hypothesis"
    ]
   },
   "outputs": [],
   "source": [
    "HYPOTHESIS 1\n",
    "---------------------------------------------------------------------------------------------------------------------------\n",
    "I hypothesize that the probability distribution of survival as it relates to age is \"U-shaped\". In other words, \n",
    "I think very young children were less likely to survive due to a lack of sufficient resilience to the arctic waters and \n",
    "that older (for the era) individuals were less likely to survive either because of the \"women and children\" mentality or \n",
    "due to a similar lack of resilience. "
   ]
  },
  {
   "cell_type": "code",
   "execution_count": 7,
   "id": "83b38d16",
   "metadata": {},
   "outputs": [],
   "source": [
    "##Creating dummy variable with hypothesized age ranges\n",
    "train %>%\n",
    "  mutate(Age_Dummy = Age) -> train\n",
    "\n",
    "train$Age_Dummy[train$Age_Dummy <= 4] <- 1\n",
    "train$Age_Dummy[train$Age_Dummy >=4.1 & train$Age_Dummy <=50] <- 2\n",
    "train$Age_Dummy[train$Age_Dummy >=50.1] <- 3"
   ]
  },
  {
   "cell_type": "code",
   "execution_count": 8,
   "id": "7304cc05",
   "metadata": {},
   "outputs": [
    {
     "data": {
      "text/html": [
       "<table>\n",
       "<thead><tr><th scope=col>Age_Dummy</th><th scope=col>n</th></tr></thead>\n",
       "<tbody>\n",
       "\t<tr><td> 1 </td><td> 40</td></tr>\n",
       "\t<tr><td> 2 </td><td>610</td></tr>\n",
       "\t<tr><td> 3 </td><td> 64</td></tr>\n",
       "\t<tr><td>NA </td><td>177</td></tr>\n",
       "</tbody>\n",
       "</table>\n"
      ],
      "text/latex": [
       "\\begin{tabular}{r|ll}\n",
       " Age\\_Dummy & n\\\\\n",
       "\\hline\n",
       "\t  1  &  40\\\\\n",
       "\t  2  & 610\\\\\n",
       "\t  3  &  64\\\\\n",
       "\t NA  & 177\\\\\n",
       "\\end{tabular}\n"
      ],
      "text/markdown": [
       "\n",
       "| Age_Dummy | n |\n",
       "|---|---|\n",
       "|  1  |  40 |\n",
       "|  2  | 610 |\n",
       "|  3  |  64 |\n",
       "| NA  | 177 |\n",
       "\n"
      ],
      "text/plain": [
       "  Age_Dummy n  \n",
       "1  1         40\n",
       "2  2        610\n",
       "3  3         64\n",
       "4 NA        177"
      ]
     },
     "metadata": {},
     "output_type": "display_data"
    }
   ],
   "source": [
    "##Checking counts to ensure meaningful sample sizes\n",
    "train %>%\n",
    "  count(Age_Dummy)"
   ]
  },
  {
   "cell_type": "code",
   "execution_count": 9,
   "id": "9432229c",
   "metadata": {},
   "outputs": [],
   "source": [
    "##Dropping original age variable\n",
    "train <- subset(train, select = -c(Age))"
   ]
  },
  {
   "cell_type": "code",
   "execution_count": null,
   "id": "4f816983",
   "metadata": {
    "tags": [
     "Ship",
     "Location",
     "Hypothesis"
    ]
   },
   "outputs": [],
   "source": [
    "HYPOTHESIS 2\n",
    "---------------------------------------------------------------------------------------------------------------------------\n",
    "I also suspect that while cabin location would have a meaningful impact on likelihood of survival, the general location \n",
    "(e.g. floor, front vs. back of ship) is more important the the precise location. As a result, the likelihood of \n",
    "survivability can most likely be attributed, to degree, to the \"quadrant\" of the ship where the passenger was staying. \n",
    "To add this hypothetical location to the model, the ships schematics were pulled from the following \n",
    "location: http://ssmaritime.com/Titanic-3.htm"
   ]
  },
  {
   "cell_type": "code",
   "execution_count": 10,
   "id": "5478bf9d",
   "metadata": {
    "collapsed": true
   },
   "outputs": [
    {
     "name": "stderr",
     "output_type": "stream",
     "text": [
      "Warning message:\n",
      "\"Expected 4 pieces. Missing pieces filled with `NA` in 202 rows [2, 4, 7, 11, 12, 22, 24, 28, 32, 53, 55, 56, 62, 63, 67, 76, 89, 93, 97, 98, ...].\""
     ]
    }
   ],
   "source": [
    "##Separating Dummy data, dropping all but first column\n",
    "train <- separate(train, \n",
    "                    col = Cabin, \n",
    "                    sep = \" \", \n",
    "                    into = c(\"Cabin_1\", \"Cabin_2\", \"Cabin_3\", \"Cabin_4\"))\n",
    "\n",
    "subset(train, select = -c(Cabin_2:Cabin_4)) -> train"
   ]
  },
  {
   "cell_type": "code",
   "execution_count": 11,
   "id": "cb54c2c2",
   "metadata": {
    "collapsed": true
   },
   "outputs": [
    {
     "name": "stderr",
     "output_type": "stream",
     "text": [
      "Warning message:\n",
      "\"Expected 2 pieces. Missing pieces filled with `NA` in 8 rows [76, 129, 293, 328, 340, 474, 700, 716].\""
     ]
    }
   ],
   "source": [
    "##Separating letters and numbers into their own columns\n",
    "train <- separate(train, \n",
    "                  col = Cabin_1, \n",
    "                  into = c(\"Cab_text\", \"Cab_num\"), \n",
    "                  sep = \"(?<=[A-Z])(?=[0-9])\")"
   ]
  },
  {
   "cell_type": "code",
   "execution_count": 12,
   "id": "364c196b",
   "metadata": {},
   "outputs": [],
   "source": [
    "##Highest number in set is \"148\", this number is split into 2 for calculation. Creating dummy variables \n",
    "##(1 = A1:D74, 2 = A:75:D148, 3 = E1:T74, 4 = E75:T148)\n",
    "\n",
    "train <- transform(train, Cab_num = as.numeric(Cab_num))\n",
    "\n",
    "train <- train %>%\n",
    "  mutate(Cabin_Dummy = case_when(Cab_text == \"A\" & Cab_num <= 74 | \n",
    "                                   Cab_text == \"B\" & Cab_num <= 74 |\n",
    "                                   Cab_text == \"C\" & Cab_num <= 74 |\n",
    "                                   Cab_text == \"D\" & Cab_num <= 74 ~ 1,\n",
    "                                 Cab_text == \"A\" & Cab_num >= 75 | \n",
    "                                   Cab_text == \"B\" & Cab_num >= 75 |\n",
    "                                   Cab_text == \"C\" & Cab_num >= 75 |\n",
    "                                   Cab_text == \"D\" & Cab_num >= 75 ~ 2,\n",
    "                                 Cab_text == \"E\" & Cab_num <= 74 | \n",
    "                                   Cab_text == \"F\" & Cab_num <= 74 |\n",
    "                                   Cab_text == \"G\" & Cab_num <= 74 |\n",
    "                                   Cab_text == \"T\" & Cab_num <= 74 ~ 3,\n",
    "                                 Cab_text == \"E\" & Cab_num >= 75 | \n",
    "                                   Cab_text == \"F\" & Cab_num >= 75 |\n",
    "                                   Cab_text == \"G\" & Cab_num >= 75 |\n",
    "                                   Cab_text == \"T\" & Cab_num >= 75 ~ 4))"
   ]
  },
  {
   "cell_type": "code",
   "execution_count": null,
   "id": "1a65f2a3",
   "metadata": {
    "tags": [
     "Modeling"
    ]
   },
   "outputs": [],
   "source": [
    "HYPOTHESIS 3\n",
    "---------------------------------------------------------------------------------------------------------------------------\n",
    "I also hypothesize that only some of the variables are meaningful predictors of the probability that a passenger would \n",
    "survive. In order to ensure that the model constructed by the training dataset generalizes and is not overfit, before \n",
    "feeding variables to the model, I will run a simple logistic regression. This should allow me to evaluate the potential \n",
    "value of various factors. Only the non-unique variables and dummy variables will be added to this analysis."
   ]
  },
  {
   "cell_type": "code",
   "execution_count": 13,
   "id": "020564e8",
   "metadata": {},
   "outputs": [],
   "source": [
    "##Transforming appropriate variables to factors\n",
    "\n",
    "train <- transform(train, Survived = as.factor(Survived),\n",
    "                   Pclass = as.factor(Pclass),\n",
    "                   SibSp = as.factor(SibSp),\n",
    "                   Parch = as.factor(Parch),\n",
    "                   Embarked = as.factor(Embarked), \n",
    "                   Sex = as.factor(Sex), \n",
    "                   Age_Dummy = as.factor(Age_Dummy),\n",
    "                   Cabin_Dummy = as.factor(Cabin_Dummy))"
   ]
  },
  {
   "cell_type": "code",
   "execution_count": 14,
   "id": "62d03a2f",
   "metadata": {
    "collapsed": true
   },
   "outputs": [
    {
     "name": "stdout",
     "output_type": "stream",
     "text": [
      "package 'leaps' successfully unpacked and MD5 sums checked\n",
      "\n",
      "The downloaded binary packages are in\n",
      "\tC:\\Users\\samwk\\AppData\\Local\\Temp\\RtmpSoQrTT\\downloaded_packages\n"
     ]
    },
    {
     "name": "stderr",
     "output_type": "stream",
     "text": [
      "Warning message:\n",
      "\"package 'leaps' was built under R version 3.6.3\"Warning message in leaps.setup(x, y, wt = wt, nbest = nbest, nvmax = nvmax, force.in = force.in, :\n",
      "\"6  linear dependencies found\""
     ]
    },
    {
     "name": "stdout",
     "output_type": "stream",
     "text": [
      "Reordering variables and trying again:\n"
     ]
    },
    {
     "name": "stderr",
     "output_type": "stream",
     "text": [
      "Warning message in rval$lopt[] <- rval$vorder[rval$lopt]:\n",
      "\"number of items to replace is not a multiple of replacement length\""
     ]
    }
   ],
   "source": [
    "##Loading appropriate library, executing forward selection glm\n",
    "install.packages(\"leaps\")\n",
    "library(leaps)\n",
    "\n",
    "regsubsets(Survived ~ Pclass + Sex + SibSp + \n",
    "             Parch + Fare + Embarked + \n",
    "             Age_Dummy + Cabin_Dummy,\n",
    "            weights = NULL,\n",
    "            data = train,\n",
    "            nvmax = NULL,\n",
    "            method = \"forward\") -> Forward_Model"
   ]
  },
  {
   "cell_type": "code",
   "execution_count": 15,
   "id": "ebcf4c44",
   "metadata": {
    "scrolled": true
   },
   "outputs": [
    {
     "data": {
      "text/html": [
       "<table>\n",
       "<thead><tr><th scope=col>R2</th><th scope=col>Adj.R2</th><th scope=col>CP</th><th scope=col>BIC</th></tr></thead>\n",
       "<tbody>\n",
       "\t<tr><td>0.2620531  </td><td>0.2578120  </td><td> -9.3990301</td><td>-43.142509 </td></tr>\n",
       "\t<tr><td>0.2807182  </td><td>0.2724028  </td><td>-11.5117426</td><td>-42.480909 </td></tr>\n",
       "\t<tr><td>0.2841720  </td><td>0.2716867  </td><td>-10.2727717</td><td>-38.157578 </td></tr>\n",
       "\t<tr><td>0.2884534  </td><td>0.2718090  </td><td> -9.2161281</td><td>-34.042899 </td></tr>\n",
       "\t<tr><td>0.2919043  </td><td>0.2710780  </td><td> -7.9765221</td><td>-29.728083 </td></tr>\n",
       "\t<tr><td>0.2948217  </td><td>0.2697858  </td><td> -6.6193541</td><td>-25.284234 </td></tr>\n",
       "\t<tr><td>0.2970839  </td><td>0.2677957  </td><td> -5.1178055</td><td>-20.679254 </td></tr>\n",
       "\t<tr><td>0.2998916  </td><td>0.2663535  </td><td> -3.7364548</td><td>-16.213179 </td></tr>\n",
       "\t<tr><td>0.3021451  </td><td>0.2643096  </td><td> -2.2330060</td><td>-11.610126 </td></tr>\n",
       "\t<tr><td>0.3049957  </td><td>0.2628742  </td><td> -0.8611053</td><td> -7.160030 </td></tr>\n",
       "\t<tr><td>0.3065840  </td><td>0.2600744  </td><td>  0.7889246</td><td> -2.392221 </td></tr>\n",
       "\t<tr><td>0.3075097  </td><td>0.2565288  </td><td>  2.5849556</td><td>  2.543151 </td></tr>\n",
       "\t<tr><td>0.3082178  </td><td>0.2527044  </td><td>  4.4289230</td><td>  7.533566 </td></tr>\n",
       "\t<tr><td>0.3091698  </td><td>0.2490976  </td><td>  6.2191687</td><td> 12.461693 </td></tr>\n",
       "\t<tr><td>0.3095510  </td><td>0.2448214  </td><td>  8.1351695</td><td> 17.535028 </td></tr>\n",
       "\t<tr><td>0.3099774  </td><td>0.2405412  </td><td> 10.0412114</td><td> 22.596782 </td></tr>\n",
       "\t<tr><td>0.3101644  </td><td>0.2359416  </td><td> 12.0000000</td><td> 27.719554 </td></tr>\n",
       "</tbody>\n",
       "</table>\n"
      ],
      "text/latex": [
       "\\begin{tabular}{r|llll}\n",
       " R2 & Adj.R2 & CP & BIC\\\\\n",
       "\\hline\n",
       "\t 0.2620531   & 0.2578120   &  -9.3990301 & -43.142509 \\\\\n",
       "\t 0.2807182   & 0.2724028   & -11.5117426 & -42.480909 \\\\\n",
       "\t 0.2841720   & 0.2716867   & -10.2727717 & -38.157578 \\\\\n",
       "\t 0.2884534   & 0.2718090   &  -9.2161281 & -34.042899 \\\\\n",
       "\t 0.2919043   & 0.2710780   &  -7.9765221 & -29.728083 \\\\\n",
       "\t 0.2948217   & 0.2697858   &  -6.6193541 & -25.284234 \\\\\n",
       "\t 0.2970839   & 0.2677957   &  -5.1178055 & -20.679254 \\\\\n",
       "\t 0.2998916   & 0.2663535   &  -3.7364548 & -16.213179 \\\\\n",
       "\t 0.3021451   & 0.2643096   &  -2.2330060 & -11.610126 \\\\\n",
       "\t 0.3049957   & 0.2628742   &  -0.8611053 &  -7.160030 \\\\\n",
       "\t 0.3065840   & 0.2600744   &   0.7889246 &  -2.392221 \\\\\n",
       "\t 0.3075097   & 0.2565288   &   2.5849556 &   2.543151 \\\\\n",
       "\t 0.3082178   & 0.2527044   &   4.4289230 &   7.533566 \\\\\n",
       "\t 0.3091698   & 0.2490976   &   6.2191687 &  12.461693 \\\\\n",
       "\t 0.3095510   & 0.2448214   &   8.1351695 &  17.535028 \\\\\n",
       "\t 0.3099774   & 0.2405412   &  10.0412114 &  22.596782 \\\\\n",
       "\t 0.3101644   & 0.2359416   &  12.0000000 &  27.719554 \\\\\n",
       "\\end{tabular}\n"
      ],
      "text/markdown": [
       "\n",
       "| R2 | Adj.R2 | CP | BIC |\n",
       "|---|---|---|---|\n",
       "| 0.2620531   | 0.2578120   |  -9.3990301 | -43.142509  |\n",
       "| 0.2807182   | 0.2724028   | -11.5117426 | -42.480909  |\n",
       "| 0.2841720   | 0.2716867   | -10.2727717 | -38.157578  |\n",
       "| 0.2884534   | 0.2718090   |  -9.2161281 | -34.042899  |\n",
       "| 0.2919043   | 0.2710780   |  -7.9765221 | -29.728083  |\n",
       "| 0.2948217   | 0.2697858   |  -6.6193541 | -25.284234  |\n",
       "| 0.2970839   | 0.2677957   |  -5.1178055 | -20.679254  |\n",
       "| 0.2998916   | 0.2663535   |  -3.7364548 | -16.213179  |\n",
       "| 0.3021451   | 0.2643096   |  -2.2330060 | -11.610126  |\n",
       "| 0.3049957   | 0.2628742   |  -0.8611053 |  -7.160030  |\n",
       "| 0.3065840   | 0.2600744   |   0.7889246 |  -2.392221  |\n",
       "| 0.3075097   | 0.2565288   |   2.5849556 |   2.543151  |\n",
       "| 0.3082178   | 0.2527044   |   4.4289230 |   7.533566  |\n",
       "| 0.3091698   | 0.2490976   |   6.2191687 |  12.461693  |\n",
       "| 0.3095510   | 0.2448214   |   8.1351695 |  17.535028  |\n",
       "| 0.3099774   | 0.2405412   |  10.0412114 |  22.596782  |\n",
       "| 0.3101644   | 0.2359416   |  12.0000000 |  27.719554  |\n",
       "\n"
      ],
      "text/plain": [
       "   R2        Adj.R2    CP          BIC       \n",
       "1  0.2620531 0.2578120  -9.3990301 -43.142509\n",
       "2  0.2807182 0.2724028 -11.5117426 -42.480909\n",
       "3  0.2841720 0.2716867 -10.2727717 -38.157578\n",
       "4  0.2884534 0.2718090  -9.2161281 -34.042899\n",
       "5  0.2919043 0.2710780  -7.9765221 -29.728083\n",
       "6  0.2948217 0.2697858  -6.6193541 -25.284234\n",
       "7  0.2970839 0.2677957  -5.1178055 -20.679254\n",
       "8  0.2998916 0.2663535  -3.7364548 -16.213179\n",
       "9  0.3021451 0.2643096  -2.2330060 -11.610126\n",
       "10 0.3049957 0.2628742  -0.8611053  -7.160030\n",
       "11 0.3065840 0.2600744   0.7889246  -2.392221\n",
       "12 0.3075097 0.2565288   2.5849556   2.543151\n",
       "13 0.3082178 0.2527044   4.4289230   7.533566\n",
       "14 0.3091698 0.2490976   6.2191687  12.461693\n",
       "15 0.3095510 0.2448214   8.1351695  17.535028\n",
       "16 0.3099774 0.2405412  10.0412114  22.596782\n",
       "17 0.3101644 0.2359416  12.0000000  27.719554"
      ]
     },
     "metadata": {},
     "output_type": "display_data"
    }
   ],
   "source": [
    "##Attempting to identify the strongest model\n",
    "summary(Forward_Model) -> Final_Model_Summary\n",
    "\n",
    "data.frame(\n",
    "  R2 = Final_Model_Summary$rsq,\n",
    "  Adj.R2 = Final_Model_Summary$adjr2,\n",
    "  CP = Final_Model_Summary$cp,\n",
    "  BIC = Final_Model_Summary$bic)"
   ]
  },
  {
   "cell_type": "code",
   "execution_count": null,
   "id": "fd9c427c",
   "metadata": {
    "tags": [
     "Rpart"
    ]
   },
   "outputs": [],
   "source": [
    "MACHINE LEARNING EXECUTION\n",
    "---------------------------------------------------------------------------------------------------------------------------\n",
    "Based on the results above, it appears that the following factors are the most salient predictors of passenger survival: \n",
    "Sex, Age, Class, Embarkation, and Cabin location. Therefore, these are the factors that will be used to execute the \n",
    "machine learning model and the remaining variables will be dropped. Based on the data types, I suspect that there is not \n",
    "full independence between the predictor variables (rules out Naive Bayes). Simple logistic regression is probably \n",
    "insufficient to identify the subtle overlap between the variables.Therefore, a decision tree model is likely the \n",
    "best approach. Specifically, recursive partitioning has been selected in order to account for missing data without the \n",
    "need for imputation and to ensure a high degree of replicability/generalizability."
   ]
  },
  {
   "cell_type": "code",
   "execution_count": 16,
   "id": "7a085ba2",
   "metadata": {},
   "outputs": [],
   "source": [
    "##Preparing new dataset for machine learning\n",
    "ML_Train <- subset(train, select = c(Survived, Pclass, Sex, \n",
    "                                     Embarked, Age_Dummy, Cabin_Dummy))"
   ]
  },
  {
   "cell_type": "code",
   "execution_count": 17,
   "id": "84af4b25",
   "metadata": {},
   "outputs": [],
   "source": [
    "##Ensuring \"Survived\" is the appropriate data class\n",
    "ML_Train <- transform(ML_Train, as.factor(Survived))"
   ]
  },
  {
   "cell_type": "code",
   "execution_count": 18,
   "id": "75199777",
   "metadata": {
    "collapsed": true
   },
   "outputs": [
    {
     "name": "stdout",
     "output_type": "stream",
     "text": [
      "package 'rpart' successfully unpacked and MD5 sums checked\n"
     ]
    },
    {
     "name": "stderr",
     "output_type": "stream",
     "text": [
      "Warning message:\n",
      "\"cannot remove prior installation of package 'rpart'\"Warning message in file.copy(savedcopy, lib, recursive = TRUE):\n",
      "\"problem copying C:\\Users\\samwk\\anaconda3\\envs\\r-tutorial\\Lib\\R\\library\\00LOCK\\rpart\\libs\\x64\\rpart.dll to C:\\Users\\samwk\\anaconda3\\envs\\r-tutorial\\Lib\\R\\library\\rpart\\libs\\x64\\rpart.dll: Permission denied\"Warning message:\n",
      "\"restored 'rpart'\""
     ]
    },
    {
     "name": "stdout",
     "output_type": "stream",
     "text": [
      "\n",
      "The downloaded binary packages are in\n",
      "\tC:\\Users\\samwk\\AppData\\Local\\Temp\\RtmpSoQrTT\\downloaded_packages\n",
      "\n",
      "  There is a binary version available but the source version is later:\n",
      "      binary source needs_compilation\n",
      "e1071  1.7-6  1.7-8              TRUE\n",
      "\n",
      "  Binaries will be installed\n",
      "package 'e1071' successfully unpacked and MD5 sums checked\n",
      "\n",
      "The downloaded binary packages are in\n",
      "\tC:\\Users\\samwk\\AppData\\Local\\Temp\\RtmpSoQrTT\\downloaded_packages\n"
     ]
    },
    {
     "name": "stderr",
     "output_type": "stream",
     "text": [
      "Warning message:\n",
      "\"package 'e1071' was built under R version 3.6.3\""
     ]
    },
    {
     "name": "stdout",
     "output_type": "stream",
     "text": [
      "+ Fold1: cp=0.005848 \n",
      "- Fold1: cp=0.005848 \n",
      "+ Fold2: cp=0.005848 \n",
      "- Fold2: cp=0.005848 \n",
      "+ Fold3: cp=0.005848 \n",
      "- Fold3: cp=0.005848 \n",
      "+ Fold4: cp=0.005848 \n",
      "- Fold4: cp=0.005848 \n",
      "+ Fold5: cp=0.005848 \n",
      "- Fold5: cp=0.005848 \n",
      "Aggregating results\n",
      "Selecting tuning parameters\n",
      "Fitting cp = 0.00585 on full training set\n"
     ]
    }
   ],
   "source": [
    "##Running ML Model\n",
    "install.packages(\"rpart\")\n",
    "install.packages(\"e1071\")\n",
    "library(rpart)\n",
    "library(e1071)\n",
    "\n",
    "Titanic_Control <- trainControl(method = \"cv\", \n",
    "                                number = 5, \n",
    "                                verboseIter = T)\n",
    "\n",
    "Titanic_ML <- train(Survived ~.,\n",
    "                    data = ML_Train,\n",
    "                    method = \"rpart\", \n",
    "                    na.action = na.rpart,\n",
    "                    trControl = Titanic_Control)"
   ]
  },
  {
   "cell_type": "code",
   "execution_count": 19,
   "id": "4cc0090c",
   "metadata": {},
   "outputs": [
    {
     "data": {
      "text/plain": [
       "CART \n",
       "\n",
       "891 samples\n",
       "  5 predictor\n",
       "  2 classes: '0', '1' \n",
       "\n",
       "No pre-processing\n",
       "Resampling: Cross-Validated (5 fold) \n",
       "Summary of sample sizes: 713, 713, 712, 713, 713 \n",
       "Resampling results across tuning parameters:\n",
       "\n",
       "  cp           Accuracy   Kappa    \n",
       "  0.005847953  0.8103007  0.5709849\n",
       "  0.032163743  0.7945703  0.5435820\n",
       "  0.444444444  0.7127927  0.3143713\n",
       "\n",
       "Accuracy was used to select the optimal model using the largest value.\n",
       "The final value used for the model was cp = 0.005847953."
      ]
     },
     "metadata": {},
     "output_type": "display_data"
    }
   ],
   "source": [
    "##Analyzing the model's accuracy in predicting the data\n",
    "Titanic_ML"
   ]
  },
  {
   "cell_type": "code",
   "execution_count": null,
   "id": "72b4718f",
   "metadata": {},
   "outputs": [],
   "source": [
    "Results suggest the model is approximately 81% accurate based on the data present. Although this accuracy is a little \n",
    "lower than ideal, it does suggest that the data are likely not OVERFIT. Therefore, this model will be executed\n",
    "on the test dataset. In addition, the extremely low CP value suggests that the model is also \"pithy\" in nature and is\n",
    "therefore highly replicable."
   ]
  },
  {
   "cell_type": "code",
   "execution_count": 20,
   "id": "ff5f89a5",
   "metadata": {},
   "outputs": [
    {
     "data": {
      "image/png": "[encoded data removed]",
      "text/plain": [
       "plot without title"
      ]
     },
     "metadata": {},
     "output_type": "display_data"
    }
   ],
   "source": [
    "##Plotting recursive partitioning regression tree as final model\n",
    "\n",
    "plot(Titanic_ML$finalModel)\n",
    "text(Titanic_ML$finalModel)"
   ]
  },
  {
   "cell_type": "code",
   "execution_count": null,
   "id": "a7d894e3",
   "metadata": {},
   "outputs": [],
   "source": [
    "The decision tree illustration above demonstrates just how pithy this model really is. In this particular case, only\n",
    "three of the factors were necessary to achieve 81% accurracy in fitting the training data. When applied to the test\n",
    "set and submitted on Kaggle, these data produced a 77.51% accuracy in predicting survival rate.\n",
    "\n",
    "Although these data suggest that this model may be somewhat underfit, the replicability, interpretability, and simplicity \n",
    "of this model are all strong. Fine tuning of this model may be achieved by adjusting hyperparameters or by employing a more\n",
    "complex model altogether. However, it appears based on the Kaggle that submissions over 83% in accuracy are exceedingly \n",
    "rare. Therefore, the loss of replicability and simplicity may not outweigh the benefit gleaned by the additional 5% in \n",
    "predictive accuracy."
   ]
  }
 ],
 "metadata": {
  "celltoolbar": "Tags",
  "kernelspec": {
   "display_name": "R",
   "language": "R",
   "name": "ir"
  },
  "language_info": {
   "codemirror_mode": "r",
   "file_extension": ".r",
   "mimetype": "text/x-r-source",
   "name": "R",
   "pygments_lexer": "r",
   "version": "3.6.1"
  }
 },
 "nbformat": 4,
 "nbformat_minor": 5
}
